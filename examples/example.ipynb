{
 "metadata": {
  "language_info": {
   "codemirror_mode": {
    "name": "ipython",
    "version": 3
   },
   "file_extension": ".py",
   "mimetype": "text/x-python",
   "name": "python",
   "nbconvert_exporter": "python",
   "pygments_lexer": "ipython3",
   "version": "3.7.0-final"
  },
  "orig_nbformat": 2,
  "kernelspec": {
   "name": "python3",
   "display_name": "Python 3.7.0 64-bit ('aug': conda)",
   "metadata": {
    "interpreter": {
     "hash": "51a895c582ac937dd2021cc75116cd1e61f4c45107061e70382928fa8bef50c5"
    }
   }
  }
 },
 "nbformat": 4,
 "nbformat_minor": 2,
 "cells": [
  {
   "cell_type": "code",
   "execution_count": 1,
   "metadata": {},
   "outputs": [],
   "source": [
    "%load_ext autoreload\n",
    "%autoreload 2"
   ]
  },
  {
   "cell_type": "code",
   "execution_count": 28,
   "metadata": {},
   "outputs": [],
   "source": [
    "from fastaug import Augmentor\n",
    "from fastaug import WordMorphSub, WordNetSub, WordRandomMask\n",
    "from fastaug import CharRandomSwap, CharRandomDelete\n",
    "from fastaug import SpanRandomMask"
   ]
  },
  {
   "cell_type": "code",
   "execution_count": 43,
   "metadata": {},
   "outputs": [
    {
     "output_type": "execute_result",
     "data": {
      "text/plain": [
       "['Five tally years ago, a big American, into whose sybmolic shdow we stand today, signed the Emancipation [MASK]',\n",
       " 'Five seduce yeas ago, a great American, in whose symbolic shadow we stand today, [MASK] the Emancipation Proclamation.',\n",
       " 'Five score class ago, a great American, in whsoe symbolic shadow we stand today, signing te Emancipation [MASK]']"
      ]
     },
     "metadata": {},
     "execution_count": 43
    }
   ],
   "source": [
    "aug = Augmentor(\n",
    "    [\n",
    "        WordMorphSub(0.1),\n",
    "        WordNetSub(0.1),\n",
    "        WordRandomMask(0.1, '[MASK]'),\n",
    "        CharRandomSwap(0.1),\n",
    "        CharRandomDelete(0.1)\n",
    "    ]\n",
    ")\n",
    "aug.augment(\"Five score years ago, a great American, in whose symbolic shadow we stand today, signed the Emancipation Proclamation.\", n=3)"
   ]
  }
 ]
}