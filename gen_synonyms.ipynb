{
 "metadata": {
  "language_info": {
   "codemirror_mode": {
    "name": "ipython",
    "version": 3
   },
   "file_extension": ".py",
   "mimetype": "text/x-python",
   "name": "python",
   "nbconvert_exporter": "python",
   "pygments_lexer": "ipython3",
   "version": "3.7.0-final"
  },
  "orig_nbformat": 2,
  "kernelspec": {
   "name": "python3",
   "display_name": "Python 3",
   "language": "python"
  }
 },
 "nbformat": 4,
 "nbformat_minor": 2,
 "cells": [
  {
   "source": [
    "# Generate synonyms in the word embedding space"
   ],
   "cell_type": "markdown",
   "metadata": {}
  },
  {
   "cell_type": "code",
   "execution_count": 1,
   "metadata": {},
   "outputs": [],
   "source": [
    "%load_ext autoreload\n",
    "%autoreload 2"
   ]
  },
  {
   "cell_type": "code",
   "execution_count": 2,
   "metadata": {},
   "outputs": [],
   "source": [
    "from fastaug.util import DownloadUtil, EmbeddingNbrUtil\n",
    "import torch\n",
    "import numpy as np\n",
    "import json"
   ]
  },
  {
   "cell_type": "code",
   "execution_count": 3,
   "metadata": {},
   "outputs": [
    {
     "output_type": "stream",
     "name": "stdout",
     "text": [
      "File exists...\n"
     ]
    }
   ],
   "source": [
    "import pandas\n",
    "embed_path = DownloadUtil.download_counter_fitting_if_not_exists()\n",
    "df = pandas.read_csv(embed_path, sep=\" \", header=None, na_values=None)\n",
    "words = list(map(str, df.values[:, 0]))\n",
    "vecs = torch.tensor(df.values[:, 1:].astype(np.float32))\n",
    "embed_util = EmbeddingNbrUtil(\n",
    "    vecs.cuda(),\n",
    "    word2idx={words[i]: i for i in range(len(words))},\n",
    "    idx2word={i: words[i] for i in range(len(words))},\n",
    ")"
   ]
  },
  {
   "cell_type": "code",
   "execution_count": 46,
   "metadata": {},
   "outputs": [
    {
     "output_type": "execute_result",
     "data": {
      "text/plain": [
       "['good',\n",
       " 'great',\n",
       " 'better',\n",
       " 'very',\n",
       " 'nice',\n",
       " 'really',\n",
       " 'excellent',\n",
       " 'decent',\n",
       " 'well',\n",
       " 'but']"
      ]
     },
     "metadata": {},
     "execution_count": 46
    }
   ],
   "source": [
    "embed_util.find_neighbours('good', measure='cos', topk=17, dist=0.25, return_words=True)"
   ]
  },
  {
   "cell_type": "code",
   "execution_count": 47,
   "metadata": {},
   "outputs": [
    {
     "output_type": "stream",
     "name": "stderr",
     "text": [
      "100%|██████████| 76854/76854 [03:43<00:00, 343.96it/s]\n"
     ]
    }
   ],
   "source": [
    "cands = {}\n",
    "word2idx={words[i]: i for i in range(len(words))}\n",
    "from tqdm import tqdm\n",
    "for word in tqdm(word2idx):\n",
    "    if isinstance(word, str):\n",
    "        nbrs = embed_util.find_neighbours(word, measure='cos', topk=17, dist=0.25, return_words=True)\n",
    "        nbrs.remove(word)\n",
    "        cands[word] = nbrs"
   ]
  },
  {
   "cell_type": "code",
   "execution_count": 3,
   "metadata": {},
   "outputs": [
    {
     "output_type": "error",
     "ename": "NameError",
     "evalue": "name 'cands' is not defined",
     "traceback": [
      "\u001b[0;31m---------------------------------------------------------------------------\u001b[0m",
      "\u001b[0;31mNameError\u001b[0m                                 Traceback (most recent call last)",
      "\u001b[0;32m<ipython-input-3-4638a85ec621>\u001b[0m in \u001b[0;36m<module>\u001b[0;34m\u001b[0m\n\u001b[1;32m      1\u001b[0m \u001b[0;32mfrom\u001b[0m \u001b[0mfastaug\u001b[0m\u001b[0;34m.\u001b[0m\u001b[0maug_ops\u001b[0m\u001b[0;34m.\u001b[0m\u001b[0mword\u001b[0m \u001b[0;32mimport\u001b[0m \u001b[0mWordEmbedSub\u001b[0m\u001b[0;34m,\u001b[0m \u001b[0mWordNetSub\u001b[0m\u001b[0;34m,\u001b[0m \u001b[0mWordDictSub\u001b[0m\u001b[0;34m\u001b[0m\u001b[0m\n\u001b[0;32m----> 2\u001b[0;31m \u001b[0mgen\u001b[0m \u001b[0;34m=\u001b[0m \u001b[0mWordDictSub\u001b[0m\u001b[0;34m(\u001b[0m\u001b[0;36m0.1\u001b[0m\u001b[0;34m,\u001b[0m \u001b[0mcands\u001b[0m\u001b[0;34m)\u001b[0m\u001b[0;34m\u001b[0m\u001b[0m\n\u001b[0m\u001b[1;32m      3\u001b[0m \u001b[0memb\u001b[0m \u001b[0;34m=\u001b[0m \u001b[0mWordEmbedSub\u001b[0m\u001b[0;34m(\u001b[0m\u001b[0;36m0.1\u001b[0m\u001b[0;34m)\u001b[0m\u001b[0;34m\u001b[0m\u001b[0m\n\u001b[1;32m      4\u001b[0m \u001b[0;31m# emb.cands = cands\u001b[0m\u001b[0;34m\u001b[0m\u001b[0;34m\u001b[0m\u001b[0m\n\u001b[1;32m      5\u001b[0m \u001b[0mnet\u001b[0m \u001b[0;34m=\u001b[0m \u001b[0mWordNetSub\u001b[0m\u001b[0;34m(\u001b[0m\u001b[0;36m0.1\u001b[0m\u001b[0;34m)\u001b[0m\u001b[0;34m\u001b[0m\u001b[0m\n",
      "\u001b[0;31mNameError\u001b[0m: name 'cands' is not defined"
     ]
    }
   ],
   "source": [
    "from fastaug.aug_ops.word import WordEmbedSub, WordNetSub, WordDictSub\n",
    "gen = WordDictSub(0.1, cands)\n",
    "emb = WordEmbedSub(0.1)\n",
    "# emb.cands = cands\n",
    "net = WordNetSub(0.1)\n",
    "words = \"A wiki is a hypertext publication collaboratively edited and managed by its own audience directly using a web browser.\".split(\" \")\n",
    "for word in words:\n",
    "    print(word)\n",
    "    if gen.has_cands(word):\n",
    "        print(\"gen-->\", gen.get_cands(word))\n",
    "    if emb.has_cands(word):\n",
    "        print(\"emb-->\", emb.get_cands(word))\n",
    "    if net.has_cands(word):\n",
    "        print(\"net-->\", net.get_cands(word))\n",
    "    print()"
   ]
  },
  {
   "cell_type": "code",
   "execution_count": null,
   "metadata": {},
   "outputs": [],
   "source": [
    "json.dump(cands, open(\"fastaug/resources/embed_top_16_dist_dot25.json\", \"w\"))"
   ]
  }
 ]
}